{
 "cells": [
  {
   "cell_type": "markdown",
   "source": [
    "Uses [sqlglot](https://github.com/tobymao/sqlglot) to extract all tables referenced in a given SQL query.\n",
    "Adds these tables as a List[str] feature in the `table_id` column of the spider and bird datasets."
   ],
   "metadata": {
    "collapsed": false
   },
   "id": "a82e3e90f0ac55dd"
  },
  {
   "cell_type": "code",
   "execution_count": 44,
   "outputs": [],
   "source": [
    "from typing import List, Dict, Literal\n",
    "import datasets\n",
    "from tqdm.notebook import tqdm\n",
    "from sqlglot import parse_one, exp\n",
    "from sqlglot.optimizer.scope import build_scope"
   ],
   "metadata": {
    "collapsed": false,
    "ExecuteTime": {
     "start_time": "2024-11-13T23:07:26.854487Z"
    }
   },
   "id": "initial_id"
  },
  {
   "cell_type": "code",
   "execution_count": 45,
   "outputs": [],
   "source": [
    "def get_tables(sql: str) -> List[str]:\n",
    "    # https://github.com/tobymao/sqlglot/blob/main/posts/ast_primer.md\n",
    "    ast = parse_one(sql)\n",
    "    root = build_scope(ast)\n",
    "    table_nodes: List[exp.Table] = [source for scope in root.traverse() for alias, (node, source) in scope.selected_sources.items() if isinstance(source, exp.Table)]\n",
    "    return [n.name for n in table_nodes]"
   ],
   "metadata": {
    "collapsed": false,
    "ExecuteTime": {
     "end_time": "2024-11-13T23:07:26.967068Z",
     "start_time": "2024-11-13T23:07:26.963118Z"
    }
   },
   "id": "52265b56bd0f2c48"
  },
  {
   "cell_type": "code",
   "execution_count": 46,
   "outputs": [
    {
     "data": {
      "text/plain": "spider - train...:   0%|          | 0/6997 [00:00<?, ?it/s]",
      "application/vnd.jupyter.widget-view+json": {
       "version_major": 2,
       "version_minor": 0,
       "model_id": "32dbf20c1c034c0cbe5a228dcd477dd2"
      }
     },
     "metadata": {},
     "output_type": "display_data"
    },
    {
     "data": {
      "text/plain": "spider - test...:   0%|          | 0/2147 [00:00<?, ?it/s]",
      "application/vnd.jupyter.widget-view+json": {
       "version_major": 2,
       "version_minor": 0,
       "model_id": "21eeccad5345403c90fb25ffd3f2b93f"
      }
     },
     "metadata": {},
     "output_type": "display_data"
    },
    {
     "data": {
      "text/plain": "spider - validation...:   0%|          | 0/1034 [00:00<?, ?it/s]",
      "application/vnd.jupyter.widget-view+json": {
       "version_major": 2,
       "version_minor": 0,
       "model_id": "0c0484e47bfb4d36a6d374bcc547e0e2"
      }
     },
     "metadata": {},
     "output_type": "display_data"
    },
    {
     "data": {
      "text/plain": "bird - train...:   0%|          | 0/6997 [00:00<?, ?it/s]",
      "application/vnd.jupyter.widget-view+json": {
       "version_major": 2,
       "version_minor": 0,
       "model_id": "2322e135f6f24547bdf115e8fb33e1b3"
      }
     },
     "metadata": {},
     "output_type": "display_data"
    },
    {
     "data": {
      "text/plain": "bird - test...:   0%|          | 0/2147 [00:00<?, ?it/s]",
      "application/vnd.jupyter.widget-view+json": {
       "version_major": 2,
       "version_minor": 0,
       "model_id": "4318c13816a94759abc6f263d01509f2"
      }
     },
     "metadata": {},
     "output_type": "display_data"
    },
    {
     "data": {
      "text/plain": "bird - validation...:   0%|          | 0/1034 [00:00<?, ?it/s]",
      "application/vnd.jupyter.widget-view+json": {
       "version_major": 2,
       "version_minor": 0,
       "model_id": "024bb5d46e014a2284948707a46f4f9f"
      }
     },
     "metadata": {},
     "output_type": "display_data"
    }
   ],
   "source": [
    "task_to_split_to_processed_dataset: Dict[str, Dict[Literal['train', 'test', 'validation'], datasets.Dataset]] = {}\n",
    "for task in [\"spider\", \"bird\"]:\n",
    "    task_to_split_to_processed_dataset[task] = {}\n",
    "    for split in [\"train\", \"test\", \"validation\"]:\n",
    "        dataset = datasets.load_dataset(f\"target-benchmark/spider-queries-{split}\")[split]\n",
    "        all_table_names = []\n",
    "        for idx, item in enumerate(tqdm(dataset, total=len(dataset), desc=f\"{task} - {split}...\")):\n",
    "            table_names = get_tables(item['answer'])\n",
    "            if len(table_names) == 0:\n",
    "                print(split)\n",
    "                print(idx)\n",
    "                print(item['answer'])\n",
    "                raise ValueError\n",
    "            all_table_names.append(table_names)\n",
    "        # Remove, then add `table_id`\n",
    "        # This will be of type datasets.Sequence(datasets.Value(\"string\")\n",
    "        dataset = dataset.remove_columns(\"table_id\")\n",
    "        dataset = dataset.add_column(\n",
    "            name=\"table_id\",\n",
    "            column=all_table_names,\n",
    "        )\n",
    "        task_to_split_to_processed_dataset[task][split] = dataset"
   ],
   "metadata": {
    "collapsed": false,
    "ExecuteTime": {
     "end_time": "2024-11-13T23:07:44.203652Z",
     "start_time": "2024-11-13T23:07:27.699882Z"
    }
   },
   "id": "5234c5f99a646961"
  },
  {
   "cell_type": "code",
   "execution_count": 51,
   "outputs": [
    {
     "data": {
      "text/plain": "Creating CSV from Arrow format:   0%|          | 0/7 [00:00<?, ?ba/s]",
      "application/vnd.jupyter.widget-view+json": {
       "version_major": 2,
       "version_minor": 0,
       "model_id": "56a8ad68be504ae3aecb637f542ea0a9"
      }
     },
     "metadata": {},
     "output_type": "display_data"
    },
    {
     "data": {
      "text/plain": "Creating CSV from Arrow format:   0%|          | 0/3 [00:00<?, ?ba/s]",
      "application/vnd.jupyter.widget-view+json": {
       "version_major": 2,
       "version_minor": 0,
       "model_id": "e7417b169a3a415a88f985814490f448"
      }
     },
     "metadata": {},
     "output_type": "display_data"
    },
    {
     "data": {
      "text/plain": "Creating CSV from Arrow format:   0%|          | 0/2 [00:00<?, ?ba/s]",
      "application/vnd.jupyter.widget-view+json": {
       "version_major": 2,
       "version_minor": 0,
       "model_id": "9d05c66d141a49acb731d5b4c7d44d68"
      }
     },
     "metadata": {},
     "output_type": "display_data"
    },
    {
     "data": {
      "text/plain": "Creating CSV from Arrow format:   0%|          | 0/7 [00:00<?, ?ba/s]",
      "application/vnd.jupyter.widget-view+json": {
       "version_major": 2,
       "version_minor": 0,
       "model_id": "d0e4298991a74cc8bc445881bc39b8de"
      }
     },
     "metadata": {},
     "output_type": "display_data"
    },
    {
     "data": {
      "text/plain": "Creating CSV from Arrow format:   0%|          | 0/3 [00:00<?, ?ba/s]",
      "application/vnd.jupyter.widget-view+json": {
       "version_major": 2,
       "version_minor": 0,
       "model_id": "04aadf92dc894fe88881aa2067fd3684"
      }
     },
     "metadata": {},
     "output_type": "display_data"
    },
    {
     "data": {
      "text/plain": "Creating CSV from Arrow format:   0%|          | 0/2 [00:00<?, ?ba/s]",
      "application/vnd.jupyter.widget-view+json": {
       "version_major": 2,
       "version_minor": 0,
       "model_id": "e931cd60ea9e4dcfb5e17a2814ba7fd8"
      }
     },
     "metadata": {},
     "output_type": "display_data"
    }
   ],
   "source": [
    "# Save to csv files\n",
    "for task, split_to_dataset in task_to_split_to_processed_dataset.items():\n",
    "    for split, dataset in split_to_dataset.items():\n",
    "        dataset.to_csv(f\"{task}_{split}_with_table_id.csv\")"
   ],
   "metadata": {
    "collapsed": false,
    "ExecuteTime": {
     "end_time": "2024-11-13T23:10:33.822744Z",
     "start_time": "2024-11-13T23:10:33.239617Z"
    }
   },
   "id": "e4570850a11f6e8b"
  }
 ],
 "metadata": {
  "kernelspec": {
   "name": "blendsql-formatron",
   "language": "python",
   "display_name": "blendsql-formatron"
  },
  "language_info": {
   "codemirror_mode": {
    "name": "ipython",
    "version": 2
   },
   "file_extension": ".py",
   "mimetype": "text/x-python",
   "name": "python",
   "nbconvert_exporter": "python",
   "pygments_lexer": "ipython2",
   "version": "2.7.6"
  }
 },
 "nbformat": 4,
 "nbformat_minor": 5
}
